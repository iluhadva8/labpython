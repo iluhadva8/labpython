{
  "nbformat": 4,
  "nbformat_minor": 0,
  "metadata": {
    "colab": {
      "provenance": [],
      "authorship_tag": "ABX9TyPpXDWUlXCD4aJfN6vTkQZx",
      "include_colab_link": true
    },
    "kernelspec": {
      "name": "python3",
      "display_name": "Python 3"
    },
    "language_info": {
      "name": "python"
    }
  },
  "cells": [
    {
      "cell_type": "markdown",
      "metadata": {
        "id": "view-in-github",
        "colab_type": "text"
      },
      "source": [
        "<a href=\"https://colab.research.google.com/github/iluhadva8/labpython/blob/main/Untitled3.ipynb\" target=\"_parent\"><img src=\"https://colab.research.google.com/assets/colab-badge.svg\" alt=\"Open In Colab\"/></a>"
      ]
    },
    {
      "cell_type": "code",
      "source": [
        "pip install CoolProp"
      ],
      "metadata": {
        "colab": {
          "base_uri": "https://localhost:8080/"
        },
        "id": "TPTpoxNj1DgT",
        "outputId": "199cc5a1-fd10-43c8-b7cb-c17f88d200fb"
      },
      "execution_count": 11,
      "outputs": [
        {
          "output_type": "stream",
          "name": "stdout",
          "text": [
            "Looking in indexes: https://pypi.org/simple, https://us-python.pkg.dev/colab-wheels/public/simple/\n",
            "Collecting CoolProp\n",
            "  Downloading CoolProp-6.4.3.post1-cp310-cp310-manylinux_2_17_x86_64.manylinux2014_x86_64.whl (6.1 MB)\n",
            "\u001b[2K     \u001b[90m━━━━━━━━━━━━━━━━━━━━━━━━━━━━━━━━━━━━━━━━\u001b[0m \u001b[32m6.1/6.1 MB\u001b[0m \u001b[31m35.6 MB/s\u001b[0m eta \u001b[36m0:00:00\u001b[0m\n",
            "\u001b[?25hInstalling collected packages: CoolProp\n",
            "Successfully installed CoolProp-6.4.3.post1\n"
          ]
        }
      ]
    },
    {
      "cell_type": "code",
      "execution_count": 47,
      "metadata": {
        "id": "AkOvu5vNr8Ul",
        "colab": {
          "base_uri": "https://localhost:8080/",
          "height": 501
        },
        "outputId": "2d73f657-26d2-4e63-c6ed-923ae1711403"
      },
      "outputs": [
        {
          "output_type": "stream",
          "name": "stdout",
          "text": [
            "45.6\n",
            "[438.9364231  438.8443291  438.75220726 ...   0.98454209   0.98420725\n",
            "   0.98387264]\n"
          ]
        },
        {
          "output_type": "display_data",
          "data": {
            "text/plain": [
              "<Figure size 640x480 with 1 Axes>"
            ],
            "image/png": "[encoded data removed]"
          },
          "metadata": {}
        }
      ],
      "source": [
        "\n",
        "import matplotlib\n",
        "import numpy as np\n",
        "import matplotlib.pyplot as plt\n",
        "import sympy as smp \n",
        "import CoolProp.CoolProp as ct \n",
        "# дано\n",
        "T=273.15 #температура в кельвинах\n",
        "p=101330 #давление в паскалях\n",
        "v=64 #объем в метрах кубических\n",
        "M= 0.016\n",
        "T=np.linspace(100,200,1500)\n",
        "R=8.314 #универсальная газовая постоянная\n",
        "Fluid_name='CH4'\n",
        "# решение 1\n",
        "m1=(p*v*M)/(R*T)\n",
        "print(m)\n",
        "#решение 2 \n",
        "d=ct.PropsSI(\"D\", \"T\", T,\"P\",p,\"CH4\")\n",
        "m2=d*v\n",
        "print(d)\n",
        "# график \n",
        "plt.plot(T,m1,\"r\")\n",
        "plt.plot(T,m2,\"g\")\n",
        "plt.xlabel(\"T\")\n",
        "plt.ylabel(\"m\")\n",
        "plt.scatter(112.14,ct.PropsSI(\"D\", \"T\", 273.15,\"P\",p,\"CH4\"),color= 'orange')\n",
        "plt.grid()\n",
        "plt.show()\n"
      ]
    }
  ]
}