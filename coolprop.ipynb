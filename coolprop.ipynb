{
  "nbformat": 4,
  "nbformat_minor": 0,
  "metadata": {
    "colab": {
      "provenance": [],
      "authorship_tag": "ABX9TyOYddTMWiuPT9oOTdwM0Hj9",
      "include_colab_link": true
    },
    "kernelspec": {
      "name": "python3",
      "display_name": "Python 3"
    },
    "language_info": {
      "name": "python"
    }
  },
  "cells": [
    {
      "cell_type": "markdown",
      "metadata": {
        "id": "view-in-github",
        "colab_type": "text"
      },
      "source": [
        "<a href=\"https://colab.research.google.com/github/iluhadva8/labpython/blob/main/coolprop.ipynb\" target=\"_parent\"><img src=\"https://colab.research.google.com/assets/colab-badge.svg\" alt=\"Open In Colab\"/></a>"
      ]
    },
    {
      "cell_type": "code",
      "execution_count": null,
      "metadata": {
        "colab": {
          "base_uri": "https://localhost:8080/"
        },
        "id": "PIF_KbywnprK",
        "outputId": "61905972-f875-4bb4-d856-ed52338f51e8"
      },
      "outputs": [
        {
          "output_type": "stream",
          "name": "stdout",
          "text": [
            "[-0.54372666  0.26653707]\n"
          ]
        },
        {
          "output_type": "stream",
          "name": "stderr",
          "text": [
            "/usr/local/lib/python3.9/dist-packages/scipy/optimize/_minpack_py.py:178: RuntimeWarning: The iteration is not making good progress, as measured by the \n",
            "  improvement from the last five Jacobian evaluations.\n",
            "  warnings.warn(msg, RuntimeWarning)\n"
          ]
        }
      ],
      "source": [
        "import numpy as np\n",
        "from scipy.optimize import fsolve\n",
        "def z(p):\n",
        "  x,y=p\n",
        "  return(x**2+x*y+7, y**2+np.sin(x)+10)\n",
        "k=fsolve(z,(0,1))\n",
        "print(k)"
      ]
    },
    {
      "cell_type": "markdown",
      "source": [
        "функция coolprop"
      ],
      "metadata": {
        "id": "X-YV0Ktds_Cu"
      }
    },
    {
      "cell_type": "code",
      "source": [
        "pip install CoolProp"
      ],
      "metadata": {
        "colab": {
          "base_uri": "https://localhost:8080/"
        },
        "id": "fRnJPCcHtCW1",
        "outputId": "4357f744-956b-439a-91ae-26e9badcc3e4"
      },
      "execution_count": null,
      "outputs": [
        {
          "output_type": "stream",
          "name": "stdout",
          "text": [
            "Looking in indexes: https://pypi.org/simple, https://us-python.pkg.dev/colab-wheels/public/simple/\n",
            "Collecting CoolProp\n",
            "  Downloading CoolProp-6.4.3.post1-cp39-cp39-manylinux_2_17_x86_64.manylinux2014_x86_64.whl (6.2 MB)\n",
            "\u001b[2K     \u001b[90m━━━━━━━━━━━━━━━━━━━━━━━━━━━━━━━━━━━━━━━━\u001b[0m \u001b[32m6.2/6.2 MB\u001b[0m \u001b[31m45.0 MB/s\u001b[0m eta \u001b[36m0:00:00\u001b[0m\n",
            "\u001b[?25hInstalling collected packages: CoolProp\n",
            "Successfully installed CoolProp-6.4.3.post1\n"
          ]
        }
      ]
    },
    {
      "cell_type": "code",
      "source": [
        "from numpy.core.function_base import linspace\n",
        "import numpy as np\n",
        "import CoolProp.CoolProp as ct \n",
        "import matplotlib.pyplot as plt\n",
        "t=np.linspace(274,380,100)\n",
        "p=101325\n",
        "d=ct.PropsSI(\"D\", \"T\", t,\"P\",p,\"water\")\n",
        "plt.plot(t,d,\"r\")\n",
        "plt.scatter(373.15,ct.PropsSI(\"D\", \"T\", 373.15,\"P\",p,\"water\"),color= 'black')\n",
        "plt.title(\"зависимость d от t при постоянном давлении\")\n",
        "plt.xlabel(\"t\")\n",
        "plt.ylabel(\"d\")\n",
        "plt.grid()\n",
        "plt.show()"
      ],
      "metadata": {
        "colab": {
          "base_uri": "https://localhost:8080/",
          "height": 472
        },
        "id": "FNA0PfdCtV6d",
        "outputId": "463817a1-42b6-4c08-9643-f5a14c7c0b5d"
      },
      "execution_count": 23,
      "outputs": [
        {
          "output_type": "display_data",
          "data": {
            "text/plain": [
              "<Figure size 640x480 with 1 Axes>"
            ],
            "image/png": "[encoded data removed]"
          },
          "metadata": {}
        }
      ]
    }
  ]
}